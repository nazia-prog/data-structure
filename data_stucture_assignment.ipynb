{
  "nbformat": 4,
  "nbformat_minor": 0,
  "metadata": {
    "colab": {
      "provenance": []
    },
    "kernelspec": {
      "name": "python3",
      "display_name": "Python 3"
    },
    "language_info": {
      "name": "python"
    }
  },
  "cells": [
    {
      "cell_type": "markdown",
      "source": [
        "1. What are data structures, and why are they important?\n",
        "\n",
        "Ans. Data structures organize and store data efficiently for operations like    searching, inserting, deleting, and sorting. Examples include lists, tuples, dictionaries, and sets in Python. They are crucial in optimizing algorithms and system performance.\n",
        "2. Difference between mutable and immutable data types with examples?\n",
        "\n",
        "Ans. Mutable: Can be changed after creation (e.g., lists, dictionaries).\n",
        "my_list = [1, 2, 3]\n",
        "my_list.append(4)  # Modifies the list\n",
        "  Immutable: Cannot be changed after creation (e.g., tuples, strings).\n",
        "my_string = \"hello\"\n",
        "my_string[0] = \"H\"  # This will raise an error\n",
        "3. Main differences between lists and tuples?\n",
        "\n",
        "Ans. Lists are mutable, tuples are immutable.\n",
        "- Lists have dynamic memory allocation; tuples have static memory allocation.\n",
        "- Tuples are faster due to immutability.\n",
        "4. How dictionaries store data?\n",
        "\n",
        "Ans.  Dictionaries store key-value pairs using a hash table mechanism.\n",
        "- Keys must be unique and immutable, while values can be of any type.\n",
        "5. Why use a set instead of a list?\n",
        "\n",
        "Ans.  Sets ensure uniqueness.\n",
        "- Faster lookups than lists because they use hash-based storage.\n",
        "6.  What is a string, and how is it different from a list?\n",
        "\n",
        "Ans.  Strings are immutable sequences of characters.\n",
        "- Lists are mutable sequences that can store various data types.\n",
        "7.  How do tuples ensure data integrity?\n",
        "\n",
        "Ans.  Their immutability prevents accidental modification, ensuring data consistency.\n",
        "8. What is a hash table, and how does it relate to dictionaries?\n",
        "\n",
        "Ans.  A hash table stores key-value pairs using a hashing function, enabling quick lookups.\n",
        "- Dictionaries in Python are built using hash tables.\n",
        "\n",
        "9. Can lists contain different data types?\n",
        "Ans.  Yes! Python lists are heterogeneous.\n",
        "my_list = [1, \"hello\", 3.14]\n",
        "10. Explain why strings are immutable in Python\n",
        "\n",
        "Ans.  Prevents unintended modifications and optimizes memory efficiency.\n",
        "\n",
        "11.What advantages do dictionaries offer over lists for certain tasks\n",
        "\n",
        "Anw.  Fast lookups via keys.\n",
        "- Structure data in a key-value format instead of an index-based structure.\n",
        "\n",
        "12. Scenario where using a tuple is preferable over a list:\n",
        "\n",
        "Ans.  When storing constant configuration values or fixed record structures.\n",
        "\n",
        "13.  How sets handle duplicate values?\n",
        "\n",
        "Ans. Sets automatically remove duplicates.\n",
        "my_set = {1, 2, 2, 3}  # Stores {1, 2, 3}.\n",
        "\n",
        "14.How “in” works differently for lists and dictionaries:\n",
        "\n",
        "- Lists: Checks if the value exists.\n",
        "- Dictionaries: Checks if the key exists.\n",
        "15.  Can you modify elements of a tuple? Why or why not?\n",
        "\n",
        "- No, tuples are immutable, preventing accidental data changes.\n",
        "16. What is a nested dictionary? Example use case:\n",
        "- A dictionary within a dictionary\n",
        "\n",
        "student = {\"name\": \"Alice\", \"grades\": {\"math\": 90, \"science\": 85}}\n",
        "17. Describe the time complexity of accessing elements in a dictionary?\n",
        "\n",
        "- O(1) on average, due to hash table lookup.\n",
        "\n",
        "18.  When are lists preferred over dictionaries?\n",
        "Ans.  When sequential access and ordered elements are required.\n",
        "\n",
        "19. Why are dictionaries unordered, and how does that affect retrieval?\n",
        "\n",
        "ans.  Keys are stored using a hash function, meaning order isn't guaranteed. Retrieval is based on key lookup, not position.\n",
        "20. Explain the difference between a list and a dictionary in terms of data retrieval\n",
        "\n",
        "Ans. Lists retrieve elements by index.\n",
        "- Dictionaries retrieve values using keys, making lookups faster.\n"
      ],
      "metadata": {
        "id": "3OKTVeoIdwwv"
      }
    },
    {
      "cell_type": "code",
      "source": [
        "# 1. Create a string with my name and print it\n",
        "my_name = \"Copilot\"\n",
        "print(my_name)\n",
        "\n",
        "# 2. Find the length of the string \"Hello World\"\n",
        "string_length = len(\"Hello World\")\n",
        "print(string_length)\n",
        "\n",
        "# 3. Slice the first 3 characters from \"Python Programming\"\n",
        "sliced_string = \"Python Programming\"[:3]\n",
        "print(sliced_string)\n",
        "\n",
        "# 4. Convert \"hello\" to uppercase\n",
        "uppercase_string = \"hello\".upper()\n",
        "print(uppercase_string)\n",
        "\n",
        "# 5. Replace \"apple\" with \"orange\" in \"I like apple\"\n",
        "modified_string = \"I like apple\".replace(\"apple\", \"orange\")\n",
        "print(modified_string)\n",
        "\n",
        "# 6. Create a list with numbers 1 to 5 and print it\n",
        "num_list = [1, 2, 3, 4, 5]\n",
        "print(num_list)\n",
        "\n",
        "# 7. Append the number 10 to the list [1, 2, 3, 4]\n",
        "append_list = [1, 2, 3, 4]\n",
        "append_list.append(10)\n",
        "print(append_list)\n",
        "\n",
        "# 8. Remove the number 3 from the list [1, 2, 3, 4, 5]\n",
        "remove_list = [1, 2, 3, 4, 5]\n",
        "remove_list.remove(3)\n",
        "print(remove_list)\n",
        "\n",
        "# 9. Access the second element in the list ['a', 'b', 'c', 'd']\n",
        "char_list = ['a', 'b', 'c', 'd']\n",
        "second_element = char_list[1]  # Indexing starts at 0\n",
        "print(second_element)\n",
        "\n",
        "# 10. Reverse the list [10, 20, 30, 40, 50]\n",
        "reverse_list = [10, 20, 30, 40, 50]\n",
        "reverse_list.reverse()\n",
        "print(reverse_list)\n"
      ],
      "metadata": {
        "colab": {
          "base_uri": "https://localhost:8080/"
        },
        "id": "4n5wWMiy4Q6G",
        "outputId": "86d12bad-7010-42c4-df28-8796061d81e8"
      },
      "execution_count": 1,
      "outputs": [
        {
          "output_type": "stream",
          "name": "stdout",
          "text": [
            "Copilot\n",
            "11\n",
            "Pyt\n",
            "HELLO\n",
            "I like orange\n",
            "[1, 2, 3, 4, 5]\n",
            "[1, 2, 3, 4, 10]\n",
            "[1, 2, 4, 5]\n",
            "b\n",
            "[50, 40, 30, 20, 10]\n"
          ]
        }
      ]
    },
    {
      "cell_type": "markdown",
      "source": [],
      "metadata": {
        "id": "7vIHBLMOegBK"
      }
    }
  ]
}